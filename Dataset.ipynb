{
 "cells": [
  {
   "cell_type": "code",
   "execution_count": 12,
   "metadata": {
    "scrolled": true
   },
   "outputs": [
    {
     "name": "stdout",
     "output_type": "stream",
     "text": [
      "loading annotations into memory...\n",
      "Done (t=0.97s)\n",
      "creating index...\n",
      "index created!\n",
      "loading annotations into memory...\n",
      "Done (t=1.35s)\n",
      "creating index...\n",
      "index created!\n"
     ]
    }
   ],
   "source": [
    "import os\n",
    "import sys\n",
    "sys.path.append('cocoapi/PythonAPI')\n",
    "from pycocotools.coco import COCO\n",
    "\n",
    "# Initialize the COCO API\n",
    "# initialize COCO API for instance annotations\n",
    "dataDir = '/home/henry/data'\n",
    "dataType = 'train2014'\n",
    "instances_annFile = os.path.join(dataDir, 'annotations/captions_{}.json'.format(dataType))\n",
    "coco = COCO(instances_annFile)\n",
    "\n",
    "# initialize COCO API for caption annotations\n",
    "captions_annFile = os.path.join(dataDir, 'annotations/captions_{}.json'.format(dataType))\n",
    "coco_caps = COCO(captions_annFile)\n",
    "\n",
    "# get image ids \n",
    "ids = list(coco.anns.keys())"
   ]
  },
  {
   "cell_type": "code",
   "execution_count": 15,
   "metadata": {},
   "outputs": [
    {
     "name": "stdout",
     "output_type": "stream",
     "text": [
      "Collecting package metadata: done\n",
      "Solving environment: done\n",
      "\n",
      "## Package Plan ##\n",
      "\n",
      "  environment location: /opt/anaconda3/envs/torch\n",
      "\n",
      "  added / updated specs:\n",
      "    - scikit-image\n",
      "\n",
      "\n",
      "The following packages will be downloaded:\n",
      "\n",
      "    package                    |            build\n",
      "    ---------------------------|-----------------\n",
      "    networkx-2.3               |             py_0         1.1 MB\n",
      "    pywavelets-1.0.3           |   py37hdd07704_1         4.4 MB\n",
      "    scikit-image-0.15.0        |   py37he6710b0_0        28.4 MB\n",
      "    ------------------------------------------------------------\n",
      "                                           Total:        33.9 MB\n",
      "\n",
      "The following NEW packages will be INSTALLED:\n",
      "\n",
      "  decorator          pkgs/main/linux-64::decorator-4.4.0-py37_1\n",
      "  imageio            pkgs/main/linux-64::imageio-2.5.0-py37_0\n",
      "  networkx           pkgs/main/noarch::networkx-2.3-py_0\n",
      "  pywavelets         pkgs/main/linux-64::pywavelets-1.0.3-py37hdd07704_1\n",
      "  scikit-image       pkgs/main/linux-64::scikit-image-0.15.0-py37he6710b0_0\n",
      "  scipy              pkgs/main/linux-64::scipy-1.2.1-py37h7c811a0_0\n",
      "\n",
      "\n",
      "Proceed ([y]/n)? ^C\n",
      "\n",
      "CondaSystemExit: \n",
      "Operation aborted.  Exiting.\n",
      "\n"
     ]
    }
   ],
   "source": [
    "# Sample image\n",
    "!conda install scikit-image\n"
   ]
  },
  {
   "cell_type": "code",
   "execution_count": 16,
   "metadata": {},
   "outputs": [
    {
     "name": "stdout",
     "output_type": "stream",
     "text": [
      "/bin/sh: 1: y: not found\r\n"
     ]
    }
   ],
   "source": [
    "!y"
   ]
  },
  {
   "cell_type": "code",
   "execution_count": 18,
   "metadata": {},
   "outputs": [
    {
     "name": "stdout",
     "output_type": "stream",
     "text": [
      "http://mscoco.org/images/475277\n",
      "a white and black horse in its pen with green grass\n",
      "A white horse looking up for a photo at a fence side.\n",
      "A close-up of a horse looking at the camera. \n",
      "A white horse is standing by a fence\n",
      "A white horse standing in a grassy field.\n"
     ]
    }
   ],
   "source": [
    "import numpy as np\n",
    "import skimage.io as io\n",
    "import matplotlib.pyplot as plt\n",
    "%matplotlib inline\n",
    "\n",
    "# pick a random image and obtain the corresponding URL\n",
    "ann_id = np.random.choice(ids)\n",
    "img_id = coco.anns[ann_id]['image_id']\n",
    "img = coco.loadImgs(img_id)[0]\n",
    "url = img['coco_url']\n",
    "\n",
    "# print URL and visualize corresponding image\n",
    "print(url)\n",
    "\n",
    "# load and display captions\n",
    "annIds = coco_caps.getAnnIds(imgIds=img['id']);\n",
    "anns = coco_caps.loadAnns(annIds)\n",
    "coco_caps.showAnns(anns)"
   ]
  }
 ],
 "metadata": {
  "anaconda-cloud": {},
  "kernelspec": {
   "display_name": "Python 3",
   "language": "python",
   "name": "python3"
  },
  "language_info": {
   "codemirror_mode": {
    "name": "ipython",
    "version": 3
   },
   "file_extension": ".py",
   "mimetype": "text/x-python",
   "name": "python",
   "nbconvert_exporter": "python",
   "pygments_lexer": "ipython3",
   "version": "3.7.0"
  }
 },
 "nbformat": 4,
 "nbformat_minor": 2
}
